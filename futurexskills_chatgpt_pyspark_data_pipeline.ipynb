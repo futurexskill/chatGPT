{
  "nbformat": 4,
  "nbformat_minor": 0,
  "metadata": {
    "colab": {
      "provenance": []
    },
    "kernelspec": {
      "name": "python3",
      "display_name": "Python 3"
    },
    "language_info": {
      "name": "python"
    }
  },
  "cells": [
    {
      "cell_type": "code",
      "execution_count": 2,
      "metadata": {
        "id": "2o7ZZ-mJ31Nq"
      },
      "outputs": [],
      "source": [
        "!apt-get install openjdk-8-jdk-headless -qq > /dev/null\n"
      ]
    },
    {
      "cell_type": "code",
      "source": [
        "import os\n",
        "os.environ[\"JAVA_HOME\"] = \"/usr/lib/jvm/java-8-openjdk-amd64\""
      ],
      "metadata": {
        "id": "cQ6xUbK-4Qm3"
      },
      "execution_count": 3,
      "outputs": []
    },
    {
      "cell_type": "code",
      "source": [
        "!pip install pyspark"
      ],
      "metadata": {
        "colab": {
          "base_uri": "https://localhost:8080/"
        },
        "id": "7EpXguAs4T8e",
        "outputId": "94d7b8ad-8647-43cf-ab9a-58436dab1d42"
      },
      "execution_count": 4,
      "outputs": [
        {
          "output_type": "stream",
          "name": "stdout",
          "text": [
            "Looking in indexes: https://pypi.org/simple, https://us-python.pkg.dev/colab-wheels/public/simple/\n",
            "Collecting pyspark\n",
            "  Downloading pyspark-3.3.1.tar.gz (281.4 MB)\n",
            "\u001b[2K     \u001b[90m━━━━━━━━━━━━━━━━━━━━━━━━━━━━━━━━━━━━━━━\u001b[0m \u001b[32m281.4/281.4 MB\u001b[0m \u001b[31m5.0 MB/s\u001b[0m eta \u001b[36m0:00:00\u001b[0m\n",
            "\u001b[?25h  Preparing metadata (setup.py) ... \u001b[?25l\u001b[?25hdone\n",
            "Collecting py4j==0.10.9.5\n",
            "  Downloading py4j-0.10.9.5-py2.py3-none-any.whl (199 kB)\n",
            "\u001b[2K     \u001b[90m━━━━━━━━━━━━━━━━━━━━━━━━━━━━━━━━━━━━━━\u001b[0m \u001b[32m199.7/199.7 KB\u001b[0m \u001b[31m21.9 MB/s\u001b[0m eta \u001b[36m0:00:00\u001b[0m\n",
            "\u001b[?25hBuilding wheels for collected packages: pyspark\n",
            "  Building wheel for pyspark (setup.py) ... \u001b[?25l\u001b[?25hdone\n",
            "  Created wheel for pyspark: filename=pyspark-3.3.1-py2.py3-none-any.whl size=281845512 sha256=c4b0c56691e8d631e6bb23770950394c7f7331bcca24e28169c0267a1662e798\n",
            "  Stored in directory: /root/.cache/pip/wheels/43/dc/11/ec201cd671da62fa9c5cc77078235e40722170ceba231d7598\n",
            "Successfully built pyspark\n",
            "Installing collected packages: py4j, pyspark\n",
            "Successfully installed py4j-0.10.9.5 pyspark-3.3.1\n"
          ]
        }
      ]
    },
    {
      "cell_type": "code",
      "source": [
        "import random\n",
        "import csv\n",
        "\n",
        "# Create a list of employee data\n",
        "employees = []\n",
        "for i in range(1000):\n",
        "    age = random.randint(20, 60)\n",
        "    salary = random.randint(30000, 150000)\n",
        "    country = random.choice([\"US\", \"UK\", \"India\", \"Germany\", \"France\"])\n",
        "    employees.append([age, salary, country])\n",
        "\n",
        "# Write the employee data to a CSV file\n",
        "with open(\"employees.csv\", \"w\", newline=\"\") as f:\n",
        "    writer = csv.writer(f)\n",
        "    writer.writerow([\"age\", \"salary\", \"country\"])\n",
        "    writer.writerows(employees)"
      ],
      "metadata": {
        "id": "5fUCnRoE4-3a"
      },
      "execution_count": 6,
      "outputs": []
    },
    {
      "cell_type": "code",
      "source": [
        "from pyspark.sql import SparkSession\n",
        "\n",
        "# Create a SparkSession\n",
        "spark = SparkSession.builder.appName(\"Read CSV\").getOrCreate()\n",
        "\n",
        "# Read the CSV file\n",
        "df = spark.read.csv(\"employees.csv\", header=True, inferSchema=True)\n",
        "\n",
        "# Show the data\n",
        "df.show()"
      ],
      "metadata": {
        "colab": {
          "base_uri": "https://localhost:8080/"
        },
        "id": "6xH3JwGS36BJ",
        "outputId": "6ba9bebf-53a2-45bd-9555-0a4cb98516fd"
      },
      "execution_count": 7,
      "outputs": [
        {
          "output_type": "stream",
          "name": "stdout",
          "text": [
            "+---+------+-------+\n",
            "|age|salary|country|\n",
            "+---+------+-------+\n",
            "| 50| 58675|Germany|\n",
            "| 33| 64623| France|\n",
            "| 30| 37495|  India|\n",
            "| 35| 52644|     US|\n",
            "| 38| 79544|     US|\n",
            "| 30| 69414|     UK|\n",
            "| 50|140251|     US|\n",
            "| 50| 85318| France|\n",
            "| 43| 72742|     UK|\n",
            "| 35| 41909|Germany|\n",
            "| 30| 35158|     US|\n",
            "| 56| 53704|Germany|\n",
            "| 38|100374|  India|\n",
            "| 20|133882|Germany|\n",
            "| 36| 99776| France|\n",
            "| 56| 86173|     UK|\n",
            "| 32|110466| France|\n",
            "| 45|100235| France|\n",
            "| 44| 62300|     US|\n",
            "| 20| 73224|     UK|\n",
            "+---+------+-------+\n",
            "only showing top 20 rows\n",
            "\n"
          ]
        }
      ]
    },
    {
      "cell_type": "code",
      "source": [
        "df.count()"
      ],
      "metadata": {
        "colab": {
          "base_uri": "https://localhost:8080/"
        },
        "id": "6QpGHkyt38qd",
        "outputId": "d7d9df69-2276-4893-b337-eb240496c6b6"
      },
      "execution_count": 8,
      "outputs": [
        {
          "output_type": "execute_result",
          "data": {
            "text/plain": [
              "1000"
            ]
          },
          "metadata": {},
          "execution_count": 8
        }
      ]
    },
    {
      "cell_type": "code",
      "source": [
        "filtered_df = df.filter(df[\"age\"] > 50)\n"
      ],
      "metadata": {
        "id": "vw3w3BBz5aae"
      },
      "execution_count": 9,
      "outputs": []
    },
    {
      "cell_type": "code",
      "source": [
        "filtered_df.count()"
      ],
      "metadata": {
        "colab": {
          "base_uri": "https://localhost:8080/"
        },
        "id": "8UCH9SRz56a0",
        "outputId": "84bd549d-d93d-4122-fcbd-e10233321c73"
      },
      "execution_count": 10,
      "outputs": [
        {
          "output_type": "execute_result",
          "data": {
            "text/plain": [
              "244"
            ]
          },
          "metadata": {},
          "execution_count": 10
        }
      ]
    },
    {
      "cell_type": "code",
      "source": [
        "filtered_df.show()"
      ],
      "metadata": {
        "colab": {
          "base_uri": "https://localhost:8080/"
        },
        "id": "08utmXIq58i3",
        "outputId": "ceafce9d-dffa-4d87-b533-25c29ebca25c"
      },
      "execution_count": 11,
      "outputs": [
        {
          "output_type": "stream",
          "name": "stdout",
          "text": [
            "+---+------+-------+\n",
            "|age|salary|country|\n",
            "+---+------+-------+\n",
            "| 56| 53704|Germany|\n",
            "| 56| 86173|     UK|\n",
            "| 60|137489|     US|\n",
            "| 51| 85823|Germany|\n",
            "| 59|109227|Germany|\n",
            "| 59|143062| France|\n",
            "| 60| 62529|     US|\n",
            "| 54| 72343|     UK|\n",
            "| 60|120408| France|\n",
            "| 53| 86837|     UK|\n",
            "| 52| 37966|Germany|\n",
            "| 52| 64486|     UK|\n",
            "| 52| 82343|     US|\n",
            "| 53| 35166| France|\n",
            "| 59| 94935|  India|\n",
            "| 52| 45603|  India|\n",
            "| 51|116355| France|\n",
            "| 54| 45214|     UK|\n",
            "| 56| 54251| France|\n",
            "| 57| 92157|     US|\n",
            "+---+------+-------+\n",
            "only showing top 20 rows\n",
            "\n"
          ]
        }
      ]
    },
    {
      "cell_type": "code",
      "source": [
        "grouped_df = df.groupBy(\"country\")\n"
      ],
      "metadata": {
        "id": "FqWagDYY6Hbb"
      },
      "execution_count": 14,
      "outputs": []
    },
    {
      "cell_type": "code",
      "source": [
        "type(grouped_df)"
      ],
      "metadata": {
        "colab": {
          "base_uri": "https://localhost:8080/"
        },
        "id": "bRQm4ZOc6Y9-",
        "outputId": "95e3ce37-835a-469e-9215-8f7069ebb640"
      },
      "execution_count": 17,
      "outputs": [
        {
          "output_type": "execute_result",
          "data": {
            "text/plain": [
              "pyspark.sql.group.GroupedData"
            ]
          },
          "metadata": {},
          "execution_count": 17
        }
      ]
    },
    {
      "cell_type": "code",
      "source": [
        "grouped_df.count().show()"
      ],
      "metadata": {
        "colab": {
          "base_uri": "https://localhost:8080/"
        },
        "id": "MdEqqaXW6adh",
        "outputId": "c2f616dc-63da-4e5f-e039-32747a462588"
      },
      "execution_count": 19,
      "outputs": [
        {
          "output_type": "stream",
          "name": "stdout",
          "text": [
            "+-------+-----+\n",
            "|country|count|\n",
            "+-------+-----+\n",
            "|Germany|  186|\n",
            "| France|  175|\n",
            "|  India|  207|\n",
            "|     US|  200|\n",
            "|     UK|  232|\n",
            "+-------+-----+\n",
            "\n"
          ]
        }
      ]
    },
    {
      "cell_type": "code",
      "source": [
        "final_df = grouped_df.count()"
      ],
      "metadata": {
        "id": "8N7HTkPe6obG"
      },
      "execution_count": 20,
      "outputs": []
    },
    {
      "cell_type": "code",
      "source": [
        "final_df.show()"
      ],
      "metadata": {
        "colab": {
          "base_uri": "https://localhost:8080/"
        },
        "id": "vl-B9QpS6uFw",
        "outputId": "3b6fb085-1ff1-4e20-96f2-7c16dc0e7517"
      },
      "execution_count": 21,
      "outputs": [
        {
          "output_type": "stream",
          "name": "stdout",
          "text": [
            "+-------+-----+\n",
            "|country|count|\n",
            "+-------+-----+\n",
            "|Germany|  186|\n",
            "| France|  175|\n",
            "|  India|  207|\n",
            "|     US|  200|\n",
            "|     UK|  232|\n",
            "+-------+-----+\n",
            "\n"
          ]
        }
      ]
    },
    {
      "cell_type": "code",
      "source": [
        "final_df.write.csv(\"futurex_output.csv\", header=True)\n"
      ],
      "metadata": {
        "id": "VyyBPD2h6vyR"
      },
      "execution_count": 22,
      "outputs": []
    },
    {
      "cell_type": "code",
      "source": [],
      "metadata": {
        "id": "0CGQwtLq7IjN"
      },
      "execution_count": null,
      "outputs": []
    }
  ]
}